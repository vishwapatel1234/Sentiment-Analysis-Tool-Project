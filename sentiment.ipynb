{
 "cells": [
  {
   "cell_type": "code",
   "execution_count": 1,
   "id": "4dc50e59",
   "metadata": {},
   "outputs": [],
   "source": [
    "import pandas as pd\n",
    "import numpy as np\n",
    "import matplotlib.pyplot as plt\n",
    "import seaborn as sns\n",
    "from wordcloud import WordCloud\n",
    "import re\n",
    "import warnings\n",
    "warnings.filterwarnings('ignore')"
   ]
  },
  {
   "cell_type": "code",
   "execution_count": 2,
   "id": "10aa5ce4",
   "metadata": {},
   "outputs": [],
   "source": [
    "# Sentiment Analysis Libraries\n",
    "from textblob import TextBlob\n",
    "from vaderSentiment.vaderSentiment import SentimentIntensityAnalyzer\n",
    "import nltk"
   ]
  },
  {
   "cell_type": "code",
   "execution_count": 3,
   "id": "87e8efac",
   "metadata": {},
   "outputs": [
    {
     "name": "stdout",
     "output_type": "stream",
     "text": [
      "All libraries imported successfully!\n"
     ]
    }
   ],
   "source": [
    "# Download required NLTK data\n",
    "nltk.download('punkt', quiet=True)\n",
    "nltk.download('stopwords', quiet=True)\n",
    "nltk.download('vader_lexicon', quiet=True)\n",
    "\n",
    "print(\"All libraries imported successfully!\")"
   ]
  },
  {
   "cell_type": "code",
   "execution_count": 14,
   "id": "9a751caa",
   "metadata": {},
   "outputs": [],
   "source": [
    "# Sample tweets for demonstration\n",
    "sample_tweets = [\n",
    "    \"I absolutely love this new iPhone! Best phone ever! 📱❤️\",\n",
    "    \"This movie was terrible. Waste of my time and money 😠\",\n",
    "    \"Just had coffee. It was okay, nothing special.\",\n",
    "    \"OMG! Just got promoted at work! So excited! 🎉🎉\",\n",
    "    \"Traffic is so bad today. Really frustrated 😤\",\n",
    "    \"The weather is cloudy today.\",\n",
    "    \"Best vacation ever! Hawaii is amazing! 🏖️☀️\",\n",
    "    \"This restaurant has terrible service. Never going back!\",\n",
    "    \"Watching TV. Pretty boring show.\",\n",
    "    \"I'm so grateful for my friends and family ❤️\",\n",
    "    \"This app keeps crashing! So annoying! 😡\",\n",
    "    \"Had a normal day at work. Nothing exciting.\",\n",
    "    \"Can't wait for the weekend! Going to be epic! 🎊\",\n",
    "    \"Disappointed with this purchase. Expected better quality.\",\n",
    "    \"Reading a book. It's interesting enough.\",\n",
    "    \"AMAZING concert last night! Best night ever! 🎵\",\n",
    "    \"My flight got cancelled. What a nightmare! ✈️😭\",\n",
    "    \"Had lunch today. Food was decent.\",\n",
    "    \"So proud of my team! We won the championship! 🏆\",\n",
    "    \"This weather is depressing. Need some sunshine ☀️\",\n",
    "    \"https://forms.office.com/r/HzwDjtW1tC\"\n",
    "]"
   ]
  },
  {
   "cell_type": "code",
   "execution_count": 15,
   "id": "cd821e1d",
   "metadata": {},
   "outputs": [],
   "source": [
    "# Create DataFrame\n",
    "df = pd.DataFrame({'tweet': sample_tweets})"
   ]
  },
  {
   "cell_type": "code",
   "execution_count": 16,
   "id": "49173c4d",
   "metadata": {},
   "outputs": [
    {
     "name": "stdout",
     "output_type": "stream",
     "text": [
      "Created dataset with 21 sample tweets\n",
      "\n",
      "Sample tweets:\n",
      "1. I absolutely love this new iPhone! Best phone ever! 📱❤️\n",
      "2. This movie was terrible. Waste of my time and money 😠\n",
      "3. Just had coffee. It was okay, nothing special.\n",
      "4. OMG! Just got promoted at work! So excited! 🎉🎉\n",
      "5. Traffic is so bad today. Really frustrated 😤\n"
     ]
    }
   ],
   "source": [
    "print(f\"Created dataset with {len(df)} sample tweets\\n\")\n",
    "print(\"Sample tweets:\")\n",
    "for i, tweet in enumerate(df['tweet'].head(5), 1):\n",
    "    print(f\"{i}. {tweet}\")"
   ]
  },
  {
   "cell_type": "code",
   "execution_count": 17,
   "id": "91561129",
   "metadata": {},
   "outputs": [],
   "source": [
    "def clean_tweet(text):\n",
    "    \"\"\"Clean tweet text for better analysis\"\"\"\n",
    "    if pd.isna(text):\n",
    "        return \"\"\n",
    "    \n",
    "    # Remove URLs\n",
    "    text = re.sub(r'http\\S+|www\\S+|https\\S+', '', text, flags=re.MULTILINE)\n",
    "    \n",
    "    # Remove user mentions (keep for context but can be removed)\n",
    "    # text = re.sub(r'@\\w+', '', text)\n",
    "    \n",
    "    # Remove extra whitespace\n",
    "    text = ' '.join(text.split())\n",
    "    \n",
    "    return text"
   ]
  },
  {
   "cell_type": "code",
   "execution_count": 18,
   "id": "5a53a60b",
   "metadata": {},
   "outputs": [],
   "source": [
    "def extract_hashtags(text):\n",
    "    \"\"\"Extract hashtags from tweet\"\"\"\n",
    "    return re.findall(r'#\\w+', text)\n",
    "\n",
    "def extract_mentions(text):\n",
    "    \"\"\"Extract mentions from tweet\"\"\"\n",
    "    return re.findall(r'@\\w+', text)"
   ]
  },
  {
   "cell_type": "code",
   "execution_count": 19,
   "id": "8275ca57",
   "metadata": {},
   "outputs": [
    {
     "name": "stdout",
     "output_type": "stream",
     "text": [
      "\n",
      "Preprocessing completed!\n"
     ]
    }
   ],
   "source": [
    "# Apply preprocessing\n",
    "df['cleaned_tweet'] = df['tweet'].apply(clean_tweet)\n",
    "df['hashtags'] = df['tweet'].apply(extract_hashtags)\n",
    "df['mentions'] = df['tweet'].apply(extract_mentions)\n",
    "\n",
    "print(\"\\nPreprocessing completed!\")"
   ]
  },
  {
   "cell_type": "code",
   "execution_count": 20,
   "id": "54715c14",
   "metadata": {},
   "outputs": [
    {
     "data": {
      "text/html": [
       "<div>\n",
       "<style scoped>\n",
       "    .dataframe tbody tr th:only-of-type {\n",
       "        vertical-align: middle;\n",
       "    }\n",
       "\n",
       "    .dataframe tbody tr th {\n",
       "        vertical-align: top;\n",
       "    }\n",
       "\n",
       "    .dataframe thead th {\n",
       "        text-align: right;\n",
       "    }\n",
       "</style>\n",
       "<table border=\"1\" class=\"dataframe\">\n",
       "  <thead>\n",
       "    <tr style=\"text-align: right;\">\n",
       "      <th></th>\n",
       "      <th>tweet</th>\n",
       "      <th>cleaned_tweet</th>\n",
       "      <th>hashtags</th>\n",
       "      <th>mentions</th>\n",
       "    </tr>\n",
       "  </thead>\n",
       "  <tbody>\n",
       "    <tr>\n",
       "      <th>0</th>\n",
       "      <td>I absolutely love this new iPhone! Best phone ...</td>\n",
       "      <td>I absolutely love this new iPhone! Best phone ...</td>\n",
       "      <td>[]</td>\n",
       "      <td>[]</td>\n",
       "    </tr>\n",
       "    <tr>\n",
       "      <th>1</th>\n",
       "      <td>This movie was terrible. Waste of my time and ...</td>\n",
       "      <td>This movie was terrible. Waste of my time and ...</td>\n",
       "      <td>[]</td>\n",
       "      <td>[]</td>\n",
       "    </tr>\n",
       "    <tr>\n",
       "      <th>2</th>\n",
       "      <td>Just had coffee. It was okay, nothing special.</td>\n",
       "      <td>Just had coffee. It was okay, nothing special.</td>\n",
       "      <td>[]</td>\n",
       "      <td>[]</td>\n",
       "    </tr>\n",
       "    <tr>\n",
       "      <th>3</th>\n",
       "      <td>OMG! Just got promoted at work! So excited! 🎉🎉</td>\n",
       "      <td>OMG! Just got promoted at work! So excited! 🎉🎉</td>\n",
       "      <td>[]</td>\n",
       "      <td>[]</td>\n",
       "    </tr>\n",
       "    <tr>\n",
       "      <th>4</th>\n",
       "      <td>Traffic is so bad today. Really frustrated 😤</td>\n",
       "      <td>Traffic is so bad today. Really frustrated 😤</td>\n",
       "      <td>[]</td>\n",
       "      <td>[]</td>\n",
       "    </tr>\n",
       "    <tr>\n",
       "      <th>5</th>\n",
       "      <td>The weather is cloudy today.</td>\n",
       "      <td>The weather is cloudy today.</td>\n",
       "      <td>[]</td>\n",
       "      <td>[]</td>\n",
       "    </tr>\n",
       "    <tr>\n",
       "      <th>6</th>\n",
       "      <td>Best vacation ever! Hawaii is amazing! 🏖️☀️</td>\n",
       "      <td>Best vacation ever! Hawaii is amazing! 🏖️☀️</td>\n",
       "      <td>[]</td>\n",
       "      <td>[]</td>\n",
       "    </tr>\n",
       "    <tr>\n",
       "      <th>7</th>\n",
       "      <td>This restaurant has terrible service. Never go...</td>\n",
       "      <td>This restaurant has terrible service. Never go...</td>\n",
       "      <td>[]</td>\n",
       "      <td>[]</td>\n",
       "    </tr>\n",
       "    <tr>\n",
       "      <th>8</th>\n",
       "      <td>Watching TV. Pretty boring show.</td>\n",
       "      <td>Watching TV. Pretty boring show.</td>\n",
       "      <td>[]</td>\n",
       "      <td>[]</td>\n",
       "    </tr>\n",
       "    <tr>\n",
       "      <th>9</th>\n",
       "      <td>I'm so grateful for my friends and family ❤️</td>\n",
       "      <td>I'm so grateful for my friends and family ❤️</td>\n",
       "      <td>[]</td>\n",
       "      <td>[]</td>\n",
       "    </tr>\n",
       "    <tr>\n",
       "      <th>10</th>\n",
       "      <td>This app keeps crashing! So annoying! 😡</td>\n",
       "      <td>This app keeps crashing! So annoying! 😡</td>\n",
       "      <td>[]</td>\n",
       "      <td>[]</td>\n",
       "    </tr>\n",
       "    <tr>\n",
       "      <th>11</th>\n",
       "      <td>Had a normal day at work. Nothing exciting.</td>\n",
       "      <td>Had a normal day at work. Nothing exciting.</td>\n",
       "      <td>[]</td>\n",
       "      <td>[]</td>\n",
       "    </tr>\n",
       "    <tr>\n",
       "      <th>12</th>\n",
       "      <td>Can't wait for the weekend! Going to be epic! 🎊</td>\n",
       "      <td>Can't wait for the weekend! Going to be epic! 🎊</td>\n",
       "      <td>[]</td>\n",
       "      <td>[]</td>\n",
       "    </tr>\n",
       "    <tr>\n",
       "      <th>13</th>\n",
       "      <td>Disappointed with this purchase. Expected bett...</td>\n",
       "      <td>Disappointed with this purchase. Expected bett...</td>\n",
       "      <td>[]</td>\n",
       "      <td>[]</td>\n",
       "    </tr>\n",
       "    <tr>\n",
       "      <th>14</th>\n",
       "      <td>Reading a book. It's interesting enough.</td>\n",
       "      <td>Reading a book. It's interesting enough.</td>\n",
       "      <td>[]</td>\n",
       "      <td>[]</td>\n",
       "    </tr>\n",
       "    <tr>\n",
       "      <th>15</th>\n",
       "      <td>AMAZING concert last night! Best night ever! 🎵</td>\n",
       "      <td>AMAZING concert last night! Best night ever! 🎵</td>\n",
       "      <td>[]</td>\n",
       "      <td>[]</td>\n",
       "    </tr>\n",
       "    <tr>\n",
       "      <th>16</th>\n",
       "      <td>My flight got cancelled. What a nightmare! ✈️😭</td>\n",
       "      <td>My flight got cancelled. What a nightmare! ✈️😭</td>\n",
       "      <td>[]</td>\n",
       "      <td>[]</td>\n",
       "    </tr>\n",
       "    <tr>\n",
       "      <th>17</th>\n",
       "      <td>Had lunch today. Food was decent.</td>\n",
       "      <td>Had lunch today. Food was decent.</td>\n",
       "      <td>[]</td>\n",
       "      <td>[]</td>\n",
       "    </tr>\n",
       "    <tr>\n",
       "      <th>18</th>\n",
       "      <td>So proud of my team! We won the championship! 🏆</td>\n",
       "      <td>So proud of my team! We won the championship! 🏆</td>\n",
       "      <td>[]</td>\n",
       "      <td>[]</td>\n",
       "    </tr>\n",
       "    <tr>\n",
       "      <th>19</th>\n",
       "      <td>This weather is depressing. Need some sunshine ☀️</td>\n",
       "      <td>This weather is depressing. Need some sunshine ☀️</td>\n",
       "      <td>[]</td>\n",
       "      <td>[]</td>\n",
       "    </tr>\n",
       "    <tr>\n",
       "      <th>20</th>\n",
       "      <td>https://forms.office.com/r/HzwDjtW1tC</td>\n",
       "      <td></td>\n",
       "      <td>[]</td>\n",
       "      <td>[]</td>\n",
       "    </tr>\n",
       "  </tbody>\n",
       "</table>\n",
       "</div>"
      ],
      "text/plain": [
       "                                                tweet  \\\n",
       "0   I absolutely love this new iPhone! Best phone ...   \n",
       "1   This movie was terrible. Waste of my time and ...   \n",
       "2      Just had coffee. It was okay, nothing special.   \n",
       "3      OMG! Just got promoted at work! So excited! 🎉🎉   \n",
       "4        Traffic is so bad today. Really frustrated 😤   \n",
       "5                        The weather is cloudy today.   \n",
       "6         Best vacation ever! Hawaii is amazing! 🏖️☀️   \n",
       "7   This restaurant has terrible service. Never go...   \n",
       "8                    Watching TV. Pretty boring show.   \n",
       "9        I'm so grateful for my friends and family ❤️   \n",
       "10            This app keeps crashing! So annoying! 😡   \n",
       "11        Had a normal day at work. Nothing exciting.   \n",
       "12    Can't wait for the weekend! Going to be epic! 🎊   \n",
       "13  Disappointed with this purchase. Expected bett...   \n",
       "14           Reading a book. It's interesting enough.   \n",
       "15     AMAZING concert last night! Best night ever! 🎵   \n",
       "16     My flight got cancelled. What a nightmare! ✈️😭   \n",
       "17                  Had lunch today. Food was decent.   \n",
       "18    So proud of my team! We won the championship! 🏆   \n",
       "19  This weather is depressing. Need some sunshine ☀️   \n",
       "20              https://forms.office.com/r/HzwDjtW1tC   \n",
       "\n",
       "                                        cleaned_tweet hashtags mentions  \n",
       "0   I absolutely love this new iPhone! Best phone ...       []       []  \n",
       "1   This movie was terrible. Waste of my time and ...       []       []  \n",
       "2      Just had coffee. It was okay, nothing special.       []       []  \n",
       "3      OMG! Just got promoted at work! So excited! 🎉🎉       []       []  \n",
       "4        Traffic is so bad today. Really frustrated 😤       []       []  \n",
       "5                        The weather is cloudy today.       []       []  \n",
       "6         Best vacation ever! Hawaii is amazing! 🏖️☀️       []       []  \n",
       "7   This restaurant has terrible service. Never go...       []       []  \n",
       "8                    Watching TV. Pretty boring show.       []       []  \n",
       "9        I'm so grateful for my friends and family ❤️       []       []  \n",
       "10            This app keeps crashing! So annoying! 😡       []       []  \n",
       "11        Had a normal day at work. Nothing exciting.       []       []  \n",
       "12    Can't wait for the weekend! Going to be epic! 🎊       []       []  \n",
       "13  Disappointed with this purchase. Expected bett...       []       []  \n",
       "14           Reading a book. It's interesting enough.       []       []  \n",
       "15     AMAZING concert last night! Best night ever! 🎵       []       []  \n",
       "16     My flight got cancelled. What a nightmare! ✈️😭       []       []  \n",
       "17                  Had lunch today. Food was decent.       []       []  \n",
       "18    So proud of my team! We won the championship! 🏆       []       []  \n",
       "19  This weather is depressing. Need some sunshine ☀️       []       []  \n",
       "20                                                          []       []  "
      ]
     },
     "execution_count": 20,
     "metadata": {},
     "output_type": "execute_result"
    }
   ],
   "source": [
    "df"
   ]
  },
  {
   "cell_type": "code",
   "execution_count": 21,
   "id": "a4ec7305",
   "metadata": {},
   "outputs": [
    {
     "name": "stdout",
     "output_type": "stream",
     "text": [
      "\n",
      "==================================================\n",
      "TEXTBLOB SENTIMENT ANALYSIS\n",
      "==================================================\n"
     ]
    }
   ],
   "source": [
    "# SENTIMENT ANALYSIS USING TEXTBLOB\n",
    "print(\"\\n\" + \"=\"*50)\n",
    "print(\"TEXTBLOB SENTIMENT ANALYSIS\")\n",
    "print(\"=\"*50)\n",
    "\n",
    "def get_textblob_sentiment(text):\n",
    "    \"\"\"Get sentiment using TextBlob\"\"\"\n",
    "    blob = TextBlob(text)\n",
    "    polarity = blob.sentiment.polarity\n",
    "    subjectivity = blob.sentiment.subjectivity\n",
    "    \n",
    "    # Classify based on polarity\n",
    "    if polarity > 0.1:\n",
    "        sentiment = 'Positive'\n",
    "    elif polarity < -0.1:\n",
    "        sentiment = 'Negative'\n",
    "    else:\n",
    "        sentiment = 'Neutral'\n",
    "    \n",
    "    return sentiment, polarity, subjectivity"
   ]
  },
  {
   "cell_type": "code",
   "execution_count": 22,
   "id": "b3acaff7",
   "metadata": {},
   "outputs": [],
   "source": [
    "# Apply TextBlob analysis\n",
    "textblob_results = df['tweet'].apply(lambda x: get_textblob_sentiment(x))\n",
    "df['textblob_sentiment'] = textblob_results.apply(lambda x: x[0])\n",
    "df['textblob_polarity'] = textblob_results.apply(lambda x: x[1])\n",
    "df['textblob_subjectivity'] = textblob_results.apply(lambda x: x[2])\n"
   ]
  },
  {
   "cell_type": "code",
   "execution_count": 24,
   "id": "00002464",
   "metadata": {},
   "outputs": [
    {
     "data": {
      "text/plain": [
       "0     (Positive, 0.5568181818181818, 0.4515151515151...\n",
       "1                                 (Negative, -0.6, 0.5)\n",
       "2     (Positive, 0.4285714285714286, 0.5357142857142...\n",
       "3                             (Positive, 0.46875, 0.75)\n",
       "4                 (Negative, -0.7, 0.43333333333333335)\n",
       "5                                   (Neutral, 0.0, 0.0)\n",
       "6                                (Positive, 0.875, 0.6)\n",
       "7                                 (Negative, -0.5, 0.5)\n",
       "8                               (Negative, -0.375, 1.0)\n",
       "9                                   (Neutral, 0.0, 0.0)\n",
       "10                                (Negative, -1.0, 0.9)\n",
       "11               (Positive, 0.22499999999999998, 0.725)\n",
       "12                               (Positive, 0.125, 0.4)\n",
       "13    (Negative, -0.11666666666666665, 0.54999999999...\n",
       "14                                (Positive, 0.25, 0.5)\n",
       "15    (Positive, 0.5333333333333333, 0.4222222222222...\n",
       "16                                  (Neutral, 0.0, 0.0)\n",
       "17    (Positive, 0.16666666666666666, 0.666666666666...\n",
       "18                                 (Positive, 1.0, 1.0)\n",
       "19                                (Negative, -0.6, 0.9)\n",
       "20                                  (Neutral, 0.0, 0.0)\n",
       "Name: tweet, dtype: object"
      ]
     },
     "execution_count": 24,
     "metadata": {},
     "output_type": "execute_result"
    }
   ],
   "source": [
    "textblob_results"
   ]
  },
  {
   "cell_type": "code",
   "execution_count": 23,
   "id": "73cc2ebb",
   "metadata": {},
   "outputs": [
    {
     "name": "stdout",
     "output_type": "stream",
     "text": [
      "TextBlob Results (First 10 tweets):\n",
      "--------------------------------------------------------------------------------\n",
      "1. I absolutely love this new iPhone! Best phone ever! 📱❤️...\n",
      "   Sentiment: Positive (Polarity: 0.557)\n",
      "\n",
      "2. This movie was terrible. Waste of my time and money 😠...\n",
      "   Sentiment: Negative (Polarity: -0.600)\n",
      "\n",
      "3. Just had coffee. It was okay, nothing special....\n",
      "   Sentiment: Positive (Polarity: 0.429)\n",
      "\n",
      "4. OMG! Just got promoted at work! So excited! 🎉🎉...\n",
      "   Sentiment: Positive (Polarity: 0.469)\n",
      "\n",
      "5. Traffic is so bad today. Really frustrated 😤...\n",
      "   Sentiment: Negative (Polarity: -0.700)\n",
      "\n",
      "6. The weather is cloudy today....\n",
      "   Sentiment: Neutral (Polarity: 0.000)\n",
      "\n",
      "7. Best vacation ever! Hawaii is amazing! 🏖️☀️...\n",
      "   Sentiment: Positive (Polarity: 0.875)\n",
      "\n",
      "8. This restaurant has terrible service. Never going back!...\n",
      "   Sentiment: Negative (Polarity: -0.500)\n",
      "\n",
      "9. Watching TV. Pretty boring show....\n",
      "   Sentiment: Negative (Polarity: -0.375)\n",
      "\n",
      "10. I'm so grateful for my friends and family ❤️...\n",
      "   Sentiment: Neutral (Polarity: 0.000)\n",
      "\n"
     ]
    }
   ],
   "source": [
    "# Display results\n",
    "print(\"TextBlob Results (First 10 tweets):\")\n",
    "print(\"-\" * 80)\n",
    "for i in range(min(10, len(df))):\n",
    "    tweet = df.iloc[i]['tweet']\n",
    "    sentiment = df.iloc[i]['textblob_sentiment']\n",
    "    polarity = df.iloc[i]['textblob_polarity']\n",
    "    \n",
    "    print(f\"{i+1}. {tweet[:60]}...\")\n",
    "    print(f\"   Sentiment: {sentiment} (Polarity: {polarity:.3f})\")\n",
    "    print()"
   ]
  },
  {
   "cell_type": "code",
   "execution_count": 25,
   "id": "b058e0cd",
   "metadata": {},
   "outputs": [
    {
     "name": "stdout",
     "output_type": "stream",
     "text": [
      "TextBlob Sentiment Distribution:\n",
      "textblob_sentiment\n",
      "Positive    10\n",
      "Negative     7\n",
      "Neutral      4\n",
      "Name: count, dtype: int64\n",
      "Percentages: textblob_sentiment\n",
      "Positive    47.619048\n",
      "Negative    33.333333\n",
      "Neutral     19.047619\n",
      "Name: count, dtype: float64\n"
     ]
    }
   ],
   "source": [
    "# TextBlob sentiment distribution\n",
    "textblob_counts = df['textblob_sentiment'].value_counts()\n",
    "print(\"TextBlob Sentiment Distribution:\")\n",
    "print(textblob_counts)\n",
    "print(f\"Percentages: {textblob_counts/len(df)*100}\")"
   ]
  },
  {
   "cell_type": "code",
   "execution_count": 27,
   "id": "11f40c63",
   "metadata": {},
   "outputs": [
    {
     "name": "stdout",
     "output_type": "stream",
     "text": [
      "\n",
      "==================================================\n",
      "VADER SENTIMENT ANALYSIS\n",
      "==================================================\n"
     ]
    }
   ],
   "source": [
    "# SENTIMENT ANALYSIS USING VADER    \n",
    "print(\"\\n\" + \"=\"*50)\n",
    "print(\"VADER SENTIMENT ANALYSIS\")\n",
    "print(\"=\"*50)"
   ]
  },
  {
   "cell_type": "code",
   "execution_count": 28,
   "id": "42c72289",
   "metadata": {},
   "outputs": [],
   "source": [
    "# Initialize VADER analyzer\n",
    "vader_analyzer = SentimentIntensityAnalyzer()\n",
    "\n",
    "def get_vader_sentiment(text):\n",
    "    \"\"\"Get sentiment using VADER\"\"\"\n",
    "    scores = vader_analyzer.polarity_scores(text)\n",
    "    \n",
    "    # Get compound score for overall sentiment\n",
    "    compound = scores['compound']\n",
    "    \n",
    "    # Classify based on compound score\n",
    "    if compound >= 0.05:\n",
    "        sentiment = 'Positive'\n",
    "    elif compound <= -0.05:\n",
    "        sentiment = 'Negative'\n",
    "    else:\n",
    "        sentiment = 'Neutral'\n",
    "    \n",
    "    return sentiment, scores"
   ]
  },
  {
   "cell_type": "code",
   "execution_count": 29,
   "id": "666d9c51",
   "metadata": {},
   "outputs": [
    {
     "name": "stdout",
     "output_type": "stream",
     "text": [
      "VADER Results (First 10 tweets):\n",
      "--------------------------------------------------------------------------------\n",
      "1. I absolutely love this new iPhone! Best phone ever! 📱❤️...\n",
      "   Sentiment: Positive (Compound: 0.883)\n",
      "\n",
      "2. This movie was terrible. Waste of my time and money 😠...\n",
      "   Sentiment: Negative (Compound: -0.848)\n",
      "\n",
      "3. Just had coffee. It was okay, nothing special....\n",
      "   Sentiment: Negative (Compound: -0.092)\n",
      "\n",
      "4. OMG! Just got promoted at work! So excited! 🎉🎉...\n",
      "   Sentiment: Positive (Compound: 0.909)\n",
      "\n",
      "5. Traffic is so bad today. Really frustrated 😤...\n",
      "   Sentiment: Negative (Compound: -0.848)\n",
      "\n",
      "6. The weather is cloudy today....\n",
      "   Sentiment: Neutral (Compound: 0.000)\n",
      "\n",
      "7. Best vacation ever! Hawaii is amazing! 🏖️☀️...\n",
      "   Sentiment: Positive (Compound: 0.862)\n",
      "\n",
      "8. This restaurant has terrible service. Never going back!...\n",
      "   Sentiment: Negative (Compound: -0.525)\n",
      "\n",
      "9. Watching TV. Pretty boring show....\n",
      "   Sentiment: Positive (Compound: 0.226)\n",
      "\n",
      "10. I'm so grateful for my friends and family ❤️...\n",
      "   Sentiment: Positive (Compound: 0.750)\n",
      "\n"
     ]
    }
   ],
   "source": [
    "# Apply VADER analysis\n",
    "vader_results = df['tweet'].apply(lambda x: get_vader_sentiment(x))\n",
    "df['vader_sentiment'] = vader_results.apply(lambda x: x[0])\n",
    "df['vader_scores'] = vader_results.apply(lambda x: x[1])\n",
    "df['vader_compound'] = df['vader_scores'].apply(lambda x: x['compound'])\n",
    "df['vader_positive'] = df['vader_scores'].apply(lambda x: x['pos'])\n",
    "df['vader_negative'] = df['vader_scores'].apply(lambda x: x['neg'])\n",
    "df['vader_neutral'] = df['vader_scores'].apply(lambda x: x['neu'])\n",
    "\n",
    "# Display results\n",
    "print(\"VADER Results (First 10 tweets):\")\n",
    "print(\"-\" * 80)\n",
    "for i in range(min(10, len(df))):\n",
    "    tweet = df.iloc[i]['tweet']\n",
    "    sentiment = df.iloc[i]['vader_sentiment']\n",
    "    compound = df.iloc[i]['vader_compound']\n",
    "    \n",
    "    print(f\"{i+1}. {tweet[:60]}...\")\n",
    "    print(f\"   Sentiment: {sentiment} (Compound: {compound:.3f})\")\n",
    "    print()\n"
   ]
  },
  {
   "cell_type": "code",
   "execution_count": 30,
   "id": "049f4b58",
   "metadata": {},
   "outputs": [
    {
     "name": "stdout",
     "output_type": "stream",
     "text": [
      "VADER Sentiment Distribution:\n",
      "vader_sentiment\n",
      "Positive    9\n",
      "Negative    8\n",
      "Neutral     4\n",
      "Name: count, dtype: int64\n",
      "Percentages: vader_sentiment\n",
      "Positive    42.857143\n",
      "Negative    38.095238\n",
      "Neutral     19.047619\n",
      "Name: count, dtype: float64\n"
     ]
    }
   ],
   "source": [
    "# VADER sentiment distribution\n",
    "vader_counts = df['vader_sentiment'].value_counts()\n",
    "print(\"VADER Sentiment Distribution:\")\n",
    "print(vader_counts)\n",
    "print(f\"Percentages: {vader_counts/len(df)*100}\")"
   ]
  },
  {
   "cell_type": "code",
   "execution_count": 31,
   "id": "e769d260",
   "metadata": {},
   "outputs": [
    {
     "name": "stdout",
     "output_type": "stream",
     "text": [
      "\n",
      "==================================================\n",
      "COMPARISON: TEXTBLOB vs VADER\n",
      "==================================================\n"
     ]
    }
   ],
   "source": [
    "# COMPARISON ANALYSIS\n",
    "print(\"\\n\" + \"=\"*50)\n",
    "print(\"COMPARISON: TEXTBLOB vs VADER\")\n",
    "print(\"=\"*50)\n"
   ]
  },
  {
   "cell_type": "code",
   "execution_count": 32,
   "id": "676f6e4f",
   "metadata": {},
   "outputs": [
    {
     "name": "stdout",
     "output_type": "stream",
     "text": [
      "Side-by-side Comparison (First 15 tweets):\n",
      "----------------------------------------------------------------------------------------------------\n",
      " 1. I absolutely love this new iPhone! Best phone ever...\n",
      "    TextBlob: Positive (+0.557) | VADER: Positive (+0.883) | Match: ✓\n",
      "\n",
      " 2. This movie was terrible. Waste of my time and mone...\n",
      "    TextBlob: Negative (-0.600) | VADER: Negative (-0.848) | Match: ✓\n",
      "\n",
      " 3. Just had coffee. It was okay, nothing special....\n",
      "    TextBlob: Positive (+0.429) | VADER: Negative (-0.092) | Match: ✗\n",
      "\n",
      " 4. OMG! Just got promoted at work! So excited! 🎉🎉...\n",
      "    TextBlob: Positive (+0.469) | VADER: Positive (+0.909) | Match: ✓\n",
      "\n",
      " 5. Traffic is so bad today. Really frustrated 😤...\n",
      "    TextBlob: Negative (-0.700) | VADER: Negative (-0.848) | Match: ✓\n",
      "\n",
      " 6. The weather is cloudy today....\n",
      "    TextBlob: Neutral  (+0.000) | VADER: Neutral  (+0.000) | Match: ✓\n",
      "\n",
      " 7. Best vacation ever! Hawaii is amazing! 🏖️☀️...\n",
      "    TextBlob: Positive (+0.875) | VADER: Positive (+0.862) | Match: ✓\n",
      "\n",
      " 8. This restaurant has terrible service. Never going ...\n",
      "    TextBlob: Negative (-0.500) | VADER: Negative (-0.525) | Match: ✓\n",
      "\n",
      " 9. Watching TV. Pretty boring show....\n",
      "    TextBlob: Negative (-0.375) | VADER: Positive (+0.226) | Match: ✗\n",
      "\n",
      "10. I'm so grateful for my friends and family ❤️...\n",
      "    TextBlob: Neutral  (+0.000) | VADER: Positive (+0.750) | Match: ✗\n",
      "\n",
      "11. This app keeps crashing! So annoying! 😡...\n",
      "    TextBlob: Negative (-1.000) | VADER: Negative (-0.622) | Match: ✓\n",
      "\n",
      "12. Had a normal day at work. Nothing exciting....\n",
      "    TextBlob: Positive (+0.225) | VADER: Negative (-0.388) | Match: ✗\n",
      "\n",
      "13. Can't wait for the weekend! Going to be epic! 🎊...\n",
      "    TextBlob: Positive (+0.125) | VADER: Neutral  (+0.000) | Match: ✗\n",
      "\n",
      "14. Disappointed with this purchase. Expected better q...\n",
      "    TextBlob: Negative (-0.117) | VADER: Negative (-0.052) | Match: ✓\n",
      "\n",
      "15. Reading a book. It's interesting enough....\n",
      "    TextBlob: Positive (+0.250) | VADER: Positive (+0.402) | Match: ✓\n",
      "\n"
     ]
    }
   ],
   "source": [
    "# Create comparison DataFrame\n",
    "comparison_df = pd.DataFrame({\n",
    "    'Tweet': df['tweet'],\n",
    "    'TextBlob': df['textblob_sentiment'],\n",
    "    'VADER': df['vader_sentiment'],\n",
    "    'TextBlob_Score': df['textblob_polarity'],\n",
    "    'VADER_Score': df['vader_compound']\n",
    "})\n",
    "\n",
    "print(\"Side-by-side Comparison (First 15 tweets):\")\n",
    "print(\"-\" * 100)\n",
    "for i in range(min(15, len(comparison_df))):\n",
    "    tweet = comparison_df.iloc[i]['Tweet'][:50]\n",
    "    tb_sent = comparison_df.iloc[i]['TextBlob']\n",
    "    vader_sent = comparison_df.iloc[i]['VADER']\n",
    "    tb_score = comparison_df.iloc[i]['TextBlob_Score']\n",
    "    vader_score = comparison_df.iloc[i]['VADER_Score']\n",
    "    \n",
    "    agreement = \"✓\" if tb_sent == vader_sent else \"✗\"\n",
    "    \n",
    "    print(f\"{i+1:2d}. {tweet}...\")\n",
    "    print(f\"    TextBlob: {tb_sent:8s} ({tb_score:+.3f}) | VADER: {vader_sent:8s} ({vader_score:+.3f}) | Match: {agreement}\")\n",
    "    print()\n"
   ]
  },
  {
   "cell_type": "code",
   "execution_count": 33,
   "id": "cf9d7923",
   "metadata": {},
   "outputs": [
    {
     "name": "stdout",
     "output_type": "stream",
     "text": [
      "Agreement between TextBlob and VADER: 13/21 (61.9%)\n"
     ]
    }
   ],
   "source": [
    "# Calculate agreement percentage\n",
    "agreement = (df['textblob_sentiment'] == df['vader_sentiment']).sum()\n",
    "agreement_percentage = (agreement / len(df)) * 100\n",
    "print(f\"Agreement between TextBlob and VADER: {agreement}/{len(df)} ({agreement_percentage:.1f}%)\")"
   ]
  },
  {
   "cell_type": "code",
   "execution_count": 34,
   "id": "a21b4e5f",
   "metadata": {},
   "outputs": [
    {
     "name": "stdout",
     "output_type": "stream",
     "text": [
      "\n",
      "==================================================\n",
      "CREATING VISUALIZATIONS\n",
      "==================================================\n"
     ]
    }
   ],
   "source": [
    "# VISUALIZATION\n",
    "print(\"\\n\" + \"=\"*50)\n",
    "print(\"CREATING VISUALIZATIONS\")\n",
    "print(\"=\"*50)"
   ]
  },
  {
   "cell_type": "code",
   "execution_count": 37,
   "id": "2d9d7c1f",
   "metadata": {},
   "outputs": [
    {
     "data": {
      "image/png": "[encoded data removed]",
      "text/plain": [
       "<Figure size 1800x1200 with 6 Axes>"
      ]
     },
     "metadata": {},
     "output_type": "display_data"
    },
    {
     "name": "stdout",
     "output_type": "stream",
     "text": [
      "Visualizations created successfully!\n"
     ]
    }
   ],
   "source": [
    "#Set up the plotting style\n",
    "plt.style.use('default')\n",
    "sns.set_palette(\"husl\")\n",
    "\n",
    "# Create subplots\n",
    "fig, axes = plt.subplots(2, 3, figsize=(18, 12))\n",
    "fig.suptitle('Twitter Sentiment Analysis Results', fontsize=16, fontweight='bold')\n",
    "\n",
    "# 1. TextBlob Sentiment Distribution (Pie Chart)\n",
    "textblob_counts = df['textblob_sentiment'].value_counts()\n",
    "colors1 = ['#ff9999', '#66b3ff', '#99ff99']\n",
    "axes[0, 0].pie(textblob_counts.values, labels=textblob_counts.index, autopct='%1.1f%%', \n",
    "               colors=colors1, startangle=90)\n",
    "axes[0, 0].set_title('TextBlob Sentiment Distribution')\n",
    "\n",
    "# 2. VADER Sentiment Distribution (Pie Chart)\n",
    "vader_counts = df['vader_sentiment'].value_counts()\n",
    "axes[0, 1].pie(vader_counts.values, labels=vader_counts.index, autopct='%1.1f%%', \n",
    "               colors=colors1, startangle=90)\n",
    "axes[0, 1].set_title('VADER Sentiment Distribution')\n",
    "\n",
    "# 3. Comparison Bar Chart\n",
    "comparison_data = pd.DataFrame({\n",
    "    'TextBlob': textblob_counts,\n",
    "    'VADER': vader_counts\n",
    "}).fillna(0)\n",
    "\n",
    "comparison_data.plot(kind='bar', ax=axes[0, 2], rot=45)\n",
    "axes[0, 2].set_title('TextBlob vs VADER Comparison')\n",
    "axes[0, 2].set_ylabel('Number of Tweets')\n",
    "axes[0, 2].legend()\n",
    "\n",
    "# 4. Polarity Score Distribution (TextBlob)\n",
    "axes[1, 0].hist(df['textblob_polarity'], bins=15, alpha=0.7, color='skyblue', edgecolor='black')\n",
    "axes[1, 0].axvline(x=0, color='red', linestyle='--', alpha=0.7)\n",
    "axes[1, 0].set_title('TextBlob Polarity Score Distribution')\n",
    "axes[1, 0].set_xlabel('Polarity Score')\n",
    "axes[1, 0].set_ylabel('Frequency')\n",
    "\n",
    "# 5. Compound Score Distribution (VADER)\n",
    "axes[1, 1].hist(df['vader_compound'], bins=15, alpha=0.7, color='lightgreen', edgecolor='black')\n",
    "axes[1, 1].axvline(x=0, color='red', linestyle='--', alpha=0.7)\n",
    "axes[1, 1].set_title('VADER Compound Score Distribution')\n",
    "axes[1, 1].set_xlabel('Compound Score')\n",
    "axes[1, 1].set_ylabel('Frequency')\n",
    "\n",
    "# 6. Scatter Plot: TextBlob vs VADER Scores\n",
    "scatter_colors = {'Positive': 'green', 'Negative': 'red', 'Neutral': 'gray'}\n",
    "for sentiment in df['textblob_sentiment'].unique():\n",
    "    mask = df['textblob_sentiment'] == sentiment\n",
    "    axes[1, 2].scatter(df.loc[mask, 'textblob_polarity'], \n",
    "                      df.loc[mask, 'vader_compound'],\n",
    "                      c=scatter_colors[sentiment], \n",
    "                      label=sentiment, alpha=0.7)\n",
    "\n",
    "axes[1, 2].axhline(y=0, color='black', linestyle='--', alpha=0.3)\n",
    "axes[1, 2].axvline(x=0, color='black', linestyle='--', alpha=0.3)\n",
    "axes[1, 2].set_xlabel('TextBlob Polarity')\n",
    "axes[1, 2].set_ylabel('VADER Compound Score')\n",
    "axes[1, 2].set_title('TextBlob vs VADER Score Correlation')\n",
    "axes[1, 2].legend()\n",
    "\n",
    "plt.tight_layout()\n",
    "plt.show()\n",
    "\n",
    "print(\"Visualizations created successfully!\")"
   ]
  },
  {
   "cell_type": "code",
   "execution_count": null,
   "id": "06fb52ed",
   "metadata": {},
   "outputs": [],
   "source": []
  }
 ],
 "metadata": {
  "kernelspec": {
   "display_name": "Python 3",
   "language": "python",
   "name": "python3"
  },
  "language_info": {
   "codemirror_mode": {
    "name": "ipython",
    "version": 3
   },
   "file_extension": ".py",
   "mimetype": "text/x-python",
   "name": "python",
   "nbconvert_exporter": "python",
   "pygments_lexer": "ipython3",
   "version": "3.12.2"
  }
 },
 "nbformat": 4,
 "nbformat_minor": 5
}
